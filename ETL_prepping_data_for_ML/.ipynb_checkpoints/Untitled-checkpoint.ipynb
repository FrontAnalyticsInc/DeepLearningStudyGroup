{
 "cells": [
  {
   "cell_type": "code",
   "execution_count": 155,
   "metadata": {},
   "outputs": [],
   "source": [
    "from nltk.corpus import brown\n",
    "import numpy as np"
   ]
  },
  {
   "cell_type": "code",
   "execution_count": 20,
   "metadata": {},
   "outputs": [],
   "source": [
    "from collections import Counter\n",
    "token_counts = Counter(adventure_tokens)"
   ]
  },
  {
   "cell_type": "code",
   "execution_count": 149,
   "metadata": {},
   "outputs": [],
   "source": [
    "from sklearn.feature_extraction import DictVectorizer\n",
    "v = DictVectorizer(sparse=True)\n",
    "from sklearn.linear_model import Perceptron\n",
    "from sklearn import tree"
   ]
  },
  {
   "cell_type": "markdown",
   "metadata": {},
   "source": [
    "## The Brown Corpus is a good dataset to begin training with\n",
    "The corpus is split into genres or categories shown below. "
   ]
  },
  {
   "cell_type": "code",
   "execution_count": 12,
   "metadata": {},
   "outputs": [],
   "source": [
    "categories = brown.categories()"
   ]
  },
  {
   "cell_type": "code",
   "execution_count": 11,
   "metadata": {},
   "outputs": [
    {
     "data": {
      "text/plain": [
       "{'adventure': 69342,\n",
       " 'belles_lettres': 173096,\n",
       " 'editorial': 61604,\n",
       " 'fiction': 68488,\n",
       " 'government': 70117,\n",
       " 'hobbies': 82345,\n",
       " 'humor': 21695,\n",
       " 'learned': 181888,\n",
       " 'lore': 110299,\n",
       " 'mystery': 57169,\n",
       " 'news': 100554,\n",
       " 'religion': 39399,\n",
       " 'reviews': 40704,\n",
       " 'romance': 70022,\n",
       " 'science_fiction': 14470}"
      ]
     },
     "execution_count": 11,
     "metadata": {},
     "output_type": "execute_result"
    }
   ],
   "source": [
    "# Count of words per section in the Brown Corpus\n",
    "dict(zip(categories, [len(brown.words(categories=cat)) for cat in categories]))"
   ]
  },
  {
   "cell_type": "markdown",
   "metadata": {},
   "source": [
    "## Build a classifier to tell us whether a text is Adventure or Romance"
   ]
  },
  {
   "cell_type": "code",
   "execution_count": 127,
   "metadata": {},
   "outputs": [],
   "source": [
    "classes = ['adventure', 'romance']"
   ]
  },
  {
   "cell_type": "code",
   "execution_count": 14,
   "metadata": {},
   "outputs": [],
   "source": [
    "adventure_tokens = brown.words(categories='adventure')"
   ]
  },
  {
   "cell_type": "code",
   "execution_count": 33,
   "metadata": {},
   "outputs": [],
   "source": [
    "romance_tokens = brown.words(categories='romance')"
   ]
  },
  {
   "cell_type": "markdown",
   "metadata": {},
   "source": [
    "Before we start extracting features from our data, let's split the data into training, test, and dev sets so that we can evaluate our neural network once we have finished. \n",
    "\n",
    "Let's do a 75 / 15 / 10 split between training, test, and dev sets."
   ]
  },
  {
   "cell_type": "code",
   "execution_count": 107,
   "metadata": {},
   "outputs": [],
   "source": [
    "def split(dataset, train=0.80, test=0.20, dev=None):\n",
    "    train_end = round(len(dataset) * train)\n",
    "    if dev:\n",
    "        test_end = train_end + round(len(dataset) * test)\n",
    "        return dataset[:train_end], dataset[train_end:test_end], dataset[test_end:]\n",
    "    else:\n",
    "        return dataset[:train_end], dataset[train_end:]"
   ]
  },
  {
   "cell_type": "code",
   "execution_count": 109,
   "metadata": {},
   "outputs": [],
   "source": [
    "## A good idea to test our function here\n",
    "# test = list(range(1,1806))\n",
    "# split(test, train=0.75, test=0.15, dev=0.10)"
   ]
  },
  {
   "cell_type": "code",
   "execution_count": 111,
   "metadata": {},
   "outputs": [],
   "source": [
    "adventure_train, adventure_test, adventure_dev = split(adventure_tokens,\n",
    "                                                       train=0.75,\n",
    "                                                       test=0.15,\n",
    "                                                       dev=0.10)\n",
    "\n",
    "romance_train, romance_test, romance_dev = split(romance_tokens,\n",
    "                                                       train=0.75,\n",
    "                                                       test=0.15,\n",
    "                                                       dev=0.10)"
   ]
  },
  {
   "cell_type": "markdown",
   "metadata": {},
   "source": [
    "Next we need to start extracting features. We already have our tokens, let's start by creating a list of features that say whether or not we saw a given word in the text.\n",
    "\n",
    "While we do that, think about what other types of features you think would be useful in differentiating between adventure and romance texts."
   ]
  },
  {
   "cell_type": "code",
   "execution_count": 112,
   "metadata": {},
   "outputs": [
    {
     "data": {
      "text/plain": [
       "52006"
      ]
     },
     "execution_count": 112,
     "metadata": {},
     "output_type": "execute_result"
    }
   ],
   "source": [
    "len(adventure_train)"
   ]
  },
  {
   "cell_type": "markdown",
   "metadata": {},
   "source": [
    "Our first step in creating a list of features that indicate if we saw a given word is to find out what the vocabulary is. The vocabulary is the set of all word types we encountered."
   ]
  },
  {
   "cell_type": "code",
   "execution_count": 35,
   "metadata": {},
   "outputs": [
    {
     "data": {
      "text/plain": [
       "13469"
      ]
     },
     "execution_count": 35,
     "metadata": {},
     "output_type": "execute_result"
    }
   ],
   "source": [
    "# First we need to add in a zero count for all vocab then add counts for each observed\n",
    "vocab = set(adventure_tokens+romance_tokens)\n",
    "len(vocab)"
   ]
  },
  {
   "cell_type": "code",
   "execution_count": 163,
   "metadata": {},
   "outputs": [],
   "source": [
    "def get_feature_dict(X, vocab):\n",
    "    # take one training example and return a sparse feature vector\n",
    "    # init feature vec with zeros\n",
    "    feature_vec = np.zeros(len(vocab), dtype=int)\n",
    "    feature_dict = dict(zip(vocab, feature_vec))\n",
    "    for fx in X: \n",
    "        # ensure that feature is already in vocab\n",
    "        if fx in feature_dict.keys():\n",
    "            feature_dict[fx] = 1  # one hot encoding\n",
    "    return feature_dict"
   ]
  },
  {
   "cell_type": "code",
   "execution_count": 168,
   "metadata": {},
   "outputs": [],
   "source": [
    "D_train = [get_feature_dict(adventure_train, vocab), get_feature_dict(romance_train, vocab)]\n",
    "D_test = [get_feature_dict(adventure_test, vocab), get_feature_dict(romance_test, vocab)]\n",
    "\n",
    "# D_train = [Counter(set(c+'_train')) for c in classes]\n",
    "# D_test = [Counter(set(c+'_test')) for c in classes]\n",
    "# D_dev = [Counter(set(c+'_dev')) for c in classes]\n",
    "\n",
    "# D_train = [Counter(set(adventure_train)), Counter(set(romance_train))]\n",
    "# D_test = [Counter(set(adventure_test)), Counter(set(romance_test))]\n",
    "# D_dev = [Counter(set(adventure_dev)), Counter(set(romance_dev))]\n",
    "\n",
    "# For this exercise we will be using One Hot Encoding. We could disable this and get the counts by removing the set() function above."
   ]
  },
  {
   "cell_type": "markdown",
   "metadata": {},
   "source": [
    "What is D?\n",
    "\n",
    "D is a convention of Scikit Learn that represents an array of dictionaries. These dictionaries can be plugged into SKlearn's DictVectorizer to give us our numpy arrays that we will train and test our neural network on later.\n",
    "\n",
    "Since we have two classes, romance and adventure, we have two dictionaries in our collection D.\n",
    "\n",
    "Once we have added all of our features and their counts for each set of examples we will fit them into our feature vector using: X = v.fit_transform(D)"
   ]
  },
  {
   "cell_type": "code",
   "execution_count": 122,
   "metadata": {},
   "outputs": [],
   "source": [
    "# D_train[0]"
   ]
  },
  {
   "cell_type": "markdown",
   "metadata": {},
   "source": [
    "So far we have a dictionary for each class that shows which word types appear in that text. We have repeated this for each test set (train, test, dev). This set of features will probably be useful for our model, but a more useful set of features might be the bigrams or trigrams that appear. Let's add those to the dictionaries, D."
   ]
  },
  {
   "cell_type": "code",
   "execution_count": null,
   "metadata": {},
   "outputs": [],
   "source": []
  },
  {
   "cell_type": "code",
   "execution_count": null,
   "metadata": {},
   "outputs": [],
   "source": []
  },
  {
   "cell_type": "code",
   "execution_count": 169,
   "metadata": {},
   "outputs": [],
   "source": [
    "X_train = v.fit_transform(D_train)\n",
    "X_test = v.fit_transform(D_test)"
   ]
  },
  {
   "cell_type": "code",
   "execution_count": 170,
   "metadata": {},
   "outputs": [
    {
     "data": {
      "text/plain": [
       "<2x13469 sparse matrix of type '<class 'numpy.float64'>'\n",
       "\twith 14313 stored elements in Compressed Sparse Row format>"
      ]
     },
     "execution_count": 170,
     "metadata": {},
     "output_type": "execute_result"
    }
   ],
   "source": [
    "X_train"
   ]
  },
  {
   "cell_type": "code",
   "execution_count": 173,
   "metadata": {},
   "outputs": [
    {
     "data": {
      "text/plain": [
       "<2x13469 sparse matrix of type '<class 'numpy.float64'>'\n",
       "\twith 4613 stored elements in Compressed Sparse Row format>"
      ]
     },
     "execution_count": 173,
     "metadata": {},
     "output_type": "execute_result"
    }
   ],
   "source": [
    "X_test"
   ]
  },
  {
   "cell_type": "code",
   "execution_count": 171,
   "metadata": {},
   "outputs": [],
   "source": [
    "classifier = Perceptron().fit(X_train, classes)"
   ]
  },
  {
   "cell_type": "code",
   "execution_count": 175,
   "metadata": {},
   "outputs": [
    {
     "data": {
      "text/plain": [
       "array(['adventure', 'romance'], \n",
       "      dtype='<U9')"
      ]
     },
     "execution_count": 175,
     "metadata": {},
     "output_type": "execute_result"
    }
   ],
   "source": [
    "classifier.predict(X_train)"
   ]
  },
  {
   "cell_type": "code",
   "execution_count": null,
   "metadata": {},
   "outputs": [],
   "source": [
    "def fit_and_evaluate_one(classifier, train_set, test_set):\n",
    "    y_train = [y_[0] for y_ in train_set]\n",
    "    X_train = [x[1] for x in train_set]\n",
    "    y_test = [y_[0] for y_ in test_set]\n",
    "    X_test = [x[1] for x in test_set]\n",
    "    \n",
    "    # fitting\n",
    "    classifier.fit(X_train, y_train)\n",
    "    \n",
    "    # accuracy\n",
    "    results = {}\n",
    "    y_hat_train = classifier.predict(X_train)\n",
    "    accur_train = sum(y_hat_train == y_train) / len(y_train)  # train accuracy\n",
    "    y_hat_test = classifier.predict(X_test)\n",
    "    accur_test = sum(y_hat_test == y_test) / len(y_test)  # test accuracy\n",
    "    results['accur_train'] = accur_train\n",
    "    results['accur_test'] = accur_test\n",
    "\n",
    "    return results"
   ]
  },
  {
   "cell_type": "code",
   "execution_count": 125,
   "metadata": {},
   "outputs": [
    {
     "ename": "TypeError",
     "evalue": "predict() missing 1 required positional argument: 'X'",
     "output_type": "error",
     "traceback": [
      "\u001b[0;31m---------------------------------------------------------------------------\u001b[0m",
      "\u001b[0;31mTypeError\u001b[0m                                 Traceback (most recent call last)",
      "\u001b[0;32m<ipython-input-125-6d68a24d17d7>\u001b[0m in \u001b[0;36m<module>\u001b[0;34m()\u001b[0m\n\u001b[0;32m----> 1\u001b[0;31m \u001b[0mPerceptron\u001b[0m\u001b[0;34m.\u001b[0m\u001b[0mpredict\u001b[0m\u001b[0;34m(\u001b[0m\u001b[0mX_train\u001b[0m\u001b[0;34m)\u001b[0m\u001b[0;34m\u001b[0m\u001b[0m\n\u001b[0m",
      "\u001b[0;31mTypeError\u001b[0m: predict() missing 1 required positional argument: 'X'"
     ]
    }
   ],
   "source": [
    "Perceptron.predict(X_train)"
   ]
  },
  {
   "cell_type": "code",
   "execution_count": null,
   "metadata": {},
   "outputs": [],
   "source": []
  },
  {
   "cell_type": "code",
   "execution_count": null,
   "metadata": {},
   "outputs": [],
   "source": []
  },
  {
   "cell_type": "markdown",
   "metadata": {},
   "source": [
    "What does this sparse parameter do?"
   ]
  },
  {
   "cell_type": "markdown",
   "metadata": {},
   "source": [
    "# Talk about conceptoin of classfying fake news"
   ]
  },
  {
   "cell_type": "markdown",
   "metadata": {},
   "source": [
    "# Write case study  for tagging"
   ]
  },
  {
   "cell_type": "markdown",
   "metadata": {},
   "source": [
    "# Case study on social media monitoring\n",
    "gave ability ot see trends in marketplace as they ebbed and flowed over time. "
   ]
  },
  {
   "cell_type": "markdown",
   "metadata": {},
   "source": [
    "# Write a post on getting data and cleaning for machine learning"
   ]
  },
  {
   "cell_type": "markdown",
   "metadata": {},
   "source": [
    "Let's find out a little about our dataset"
   ]
  },
  {
   "cell_type": "code",
   "execution_count": 21,
   "metadata": {},
   "outputs": [],
   "source": [
    "most_common = token_counts.most_common(50)"
   ]
  },
  {
   "cell_type": "code",
   "execution_count": 28,
   "metadata": {},
   "outputs": [],
   "source": [
    "import matplotlib\n",
    "import matplotlib.pyplot as plt\n",
    "% matplotlib inline"
   ]
  },
  {
   "cell_type": "code",
   "execution_count": 31,
   "metadata": {},
   "outputs": [
    {
     "data": {
      "text/plain": [
       "[('.', 4057),\n",
       " (',', 3488),\n",
       " ('the', 3370),\n",
       " ('and', 1622),\n",
       " ('a', 1354),\n",
       " ('of', 1322),\n",
       " ('to', 1309),\n",
       " ('``', 998),\n",
       " (\"''\", 995),\n",
       " ('was', 914),\n",
       " ('in', 847),\n",
       " ('his', 776),\n",
       " ('he', 761),\n",
       " ('I', 652),\n",
       " ('had', 591),\n",
       " ('He', 522),\n",
       " ('?', 518),\n",
       " ('that', 494),\n",
       " ('it', 492),\n",
       " ('on', 460),\n",
       " ('her', 444),\n",
       " ('him', 415),\n",
       " ('The', 410),\n",
       " ('with', 401),\n",
       " ('you', 362),\n",
       " ('for', 331),\n",
       " ('at', 317),\n",
       " ('!', 314),\n",
       " ('as', 310),\n",
       " ('said', 287),\n",
       " ('out', 266),\n",
       " ('from', 260),\n",
       " ('were', 251),\n",
       " ('she', 240),\n",
       " ('up', 226),\n",
       " (';', 216),\n",
       " ('--', 213),\n",
       " ('me', 207),\n",
       " ('they', 206),\n",
       " ('this', 203),\n",
       " ('but', 197),\n",
       " ('would', 191),\n",
       " ('be', 183),\n",
       " ('into', 180),\n",
       " ('not', 179),\n",
       " ('my', 168),\n",
       " ('all', 167),\n",
       " ('back', 165),\n",
       " ('man', 165),\n",
       " ('one', 162)]"
      ]
     },
     "execution_count": 31,
     "metadata": {},
     "output_type": "execute_result"
    }
   ],
   "source": [
    "most_common"
   ]
  },
  {
   "cell_type": "code",
   "execution_count": 32,
   "metadata": {},
   "outputs": [
    {
     "data": {
      "text/plain": [
       "[<matplotlib.lines.Line2D at 0x7fdcb8ab59e8>]"
      ]
     },
     "execution_count": 32,
     "metadata": {},
     "output_type": "execute_result"
    },
    {
     "data": {
      "image/png": "[encoded data removed]",
      "text/plain": [
       "<matplotlib.figure.Figure at 0x7fdcb8b709b0>"
      ]
     },
     "metadata": {},
     "output_type": "display_data"
    }
   ],
   "source": [
    "plt.plot([count[1] for count in most_common])"
   ]
  },
  {
   "cell_type": "code",
   "execution_count": null,
   "metadata": {},
   "outputs": [],
   "source": []
  }
 ],
 "metadata": {
  "kernelspec": {
   "display_name": "data_science_general",
   "language": "python",
   "name": "data_science_general"
  },
  "language_info": {
   "codemirror_mode": {
    "name": "ipython",
    "version": 3
   },
   "file_extension": ".py",
   "mimetype": "text/x-python",
   "name": "python",
   "nbconvert_exporter": "python",
   "pygments_lexer": "ipython3",
   "version": "3.6.1"
  }
 },
 "nbformat": 4,
 "nbformat_minor": 2
}
